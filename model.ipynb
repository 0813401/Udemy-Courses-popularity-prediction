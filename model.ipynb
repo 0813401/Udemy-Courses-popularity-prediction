{
 "cells": [
  {
   "cell_type": "code",
   "execution_count": 55,
   "id": "77365ec8",
   "metadata": {},
   "outputs": [],
   "source": [
    "from sklearn import datasets\n",
    "import numpy as np\n",
    "import pandas as pd\n",
    "from sklearn import tree\n",
    "import matplotlib.pyplot as plt\n",
    "import seaborn as sns\n",
    "from IPython.display import display, Image\n",
    "import os\n",
    "from sklearn.impute import KNNImputer\n",
    "from sklearn.model_selection import train_test_split\n",
    "from sklearn.ensemble import RandomForestClassifier\n",
    "from sklearn.metrics import f1_score, roc_auc_score, confusion_matrix, roc_auc_score, ConfusionMatrixDisplay\n",
    "from xgboost import XGBClassifier\n",
    "from sklearn.model_selection import RandomizedSearchCV"
   ]
  },
  {
   "cell_type": "code",
   "execution_count": 3,
   "id": "b8eb39d3",
   "metadata": {},
   "outputs": [],
   "source": [
    "#make pandas show all data without \"...\"\n",
    "pd.set_option('display.max_columns', None)\n",
    "pd.set_option('display.max_rows', None)"
   ]
  },
  {
   "cell_type": "code",
   "execution_count": 63,
   "id": "0c1f82e9",
   "metadata": {},
   "outputs": [],
   "source": [
    "def roc_auc_score_multiclass(actual_class, pred_class, average = \"macro\"):\n",
    "    \n",
    "    #creating a set of all the unique classes using the actual class list\n",
    "    unique_class = set(actual_class)\n",
    "    roc_auc_dict = {}\n",
    "    for per_class in unique_class:\n",
    "        \n",
    "        #creating a list of all the classes except the current class \n",
    "        other_class = [x for x in unique_class if x != per_class]\n",
    "\n",
    "        #marking the current class as 1 and all other classes as 0\n",
    "        new_actual_class = [0 if x in other_class else 1 for x in actual_class]\n",
    "        new_pred_class = [0 if x in other_class else 1 for x in pred_class]\n",
    "\n",
    "        #using the sklearn metrics method to calculate the roc_auc_score\n",
    "        roc_auc = roc_auc_score(new_actual_class, new_pred_class, average = average)\n",
    "        roc_auc_dict[per_class] = round(roc_auc, 3)\n",
    "\n",
    "    return roc_auc_dict"
   ]
  },
  {
   "cell_type": "code",
   "execution_count": 4,
   "id": "609f745b",
   "metadata": {},
   "outputs": [],
   "source": [
    "def accuracy(y_true, y_pred):\n",
    "    \n",
    "    # Intitializing variable to store count of correctly predicted classes\n",
    "    correct_predictions = 0\n",
    "    \n",
    "    for yt, yp in zip(y_true, y_pred):\n",
    "        \n",
    "        if yt == yp:\n",
    "            \n",
    "            correct_predictions += 1\n",
    "    \n",
    "    #returns accuracy\n",
    "    return correct_predictions / len(y_true)"
   ]
  },
  {
   "cell_type": "code",
   "execution_count": 144,
   "id": "cf8e2e50",
   "metadata": {},
   "outputs": [
    {
     "data": {
      "text/html": [
       "<div>\n",
       "<style scoped>\n",
       "    .dataframe tbody tr th:only-of-type {\n",
       "        vertical-align: middle;\n",
       "    }\n",
       "\n",
       "    .dataframe tbody tr th {\n",
       "        vertical-align: top;\n",
       "    }\n",
       "\n",
       "    .dataframe thead th {\n",
       "        text-align: right;\n",
       "    }\n",
       "</style>\n",
       "<table border=\"1\" class=\"dataframe\">\n",
       "  <thead>\n",
       "    <tr style=\"text-align: right;\">\n",
       "      <th></th>\n",
       "      <th>course_id</th>\n",
       "      <th>course_title</th>\n",
       "      <th>url</th>\n",
       "      <th>price</th>\n",
       "      <th>num_subscribers</th>\n",
       "      <th>num_reviews</th>\n",
       "      <th>num_lectures</th>\n",
       "      <th>level</th>\n",
       "      <th>rating</th>\n",
       "      <th>content_duration</th>\n",
       "      <th>published_timestamp</th>\n",
       "      <th>subject</th>\n",
       "      <th>Date</th>\n",
       "      <th>Free/Paid</th>\n",
       "      <th>course_title_len</th>\n",
       "      <th>price_disc</th>\n",
       "      <th>num_subscribers_disc</th>\n",
       "      <th>num_reviews_disc</th>\n",
       "      <th>num_lectures_disc</th>\n",
       "      <th>rating_disc</th>\n",
       "    </tr>\n",
       "  </thead>\n",
       "  <tbody>\n",
       "    <tr>\n",
       "      <th>0</th>\n",
       "      <td>41295</td>\n",
       "      <td>Learn HTML5 Programming From Scratch</td>\n",
       "      <td>https://www.udemy.com/learn-html5-programming-...</td>\n",
       "      <td>0</td>\n",
       "      <td>268923</td>\n",
       "      <td>8629</td>\n",
       "      <td>45</td>\n",
       "      <td>Beginner Level</td>\n",
       "      <td>0.82</td>\n",
       "      <td>10.5</td>\n",
       "      <td>2013-02-14T07:03:41Z</td>\n",
       "      <td>Web Development</td>\n",
       "      <td>2/14/2013</td>\n",
       "      <td>Free</td>\n",
       "      <td>36</td>\n",
       "      <td>0</td>\n",
       "      <td>3</td>\n",
       "      <td>3</td>\n",
       "      <td>2</td>\n",
       "      <td>3</td>\n",
       "    </tr>\n",
       "    <tr>\n",
       "      <th>1</th>\n",
       "      <td>59014</td>\n",
       "      <td>Coding for Entrepreneurs Basic</td>\n",
       "      <td>https://www.udemy.com/coding-for-entrepreneurs...</td>\n",
       "      <td>0</td>\n",
       "      <td>161029</td>\n",
       "      <td>279</td>\n",
       "      <td>27</td>\n",
       "      <td>Expert Level</td>\n",
       "      <td>0.69</td>\n",
       "      <td>3.5</td>\n",
       "      <td>2013-06-09T15:51:55Z</td>\n",
       "      <td>Web Development</td>\n",
       "      <td>6/9/2013</td>\n",
       "      <td>Free</td>\n",
       "      <td>30</td>\n",
       "      <td>0</td>\n",
       "      <td>3</td>\n",
       "      <td>3</td>\n",
       "      <td>3</td>\n",
       "      <td>2</td>\n",
       "    </tr>\n",
       "    <tr>\n",
       "      <th>2</th>\n",
       "      <td>625204</td>\n",
       "      <td>The Web Developer Bootcamp</td>\n",
       "      <td>https://www.udemy.com/the-web-developer-bootcamp/</td>\n",
       "      <td>200</td>\n",
       "      <td>121584</td>\n",
       "      <td>27445</td>\n",
       "      <td>342</td>\n",
       "      <td>Beginner Level</td>\n",
       "      <td>0.89</td>\n",
       "      <td>43.0</td>\n",
       "      <td>2015-11-02T21:13:27Z</td>\n",
       "      <td>Web Development</td>\n",
       "      <td>11/2/2015</td>\n",
       "      <td>Paid</td>\n",
       "      <td>26</td>\n",
       "      <td>3</td>\n",
       "      <td>3</td>\n",
       "      <td>3</td>\n",
       "      <td>2</td>\n",
       "      <td>3</td>\n",
       "    </tr>\n",
       "    <tr>\n",
       "      <th>3</th>\n",
       "      <td>173548</td>\n",
       "      <td>Build Your First Website in 1 Week with HTML5 ...</td>\n",
       "      <td>https://www.udemy.com/build-your-first-website...</td>\n",
       "      <td>0</td>\n",
       "      <td>120291</td>\n",
       "      <td>5924</td>\n",
       "      <td>30</td>\n",
       "      <td>All Levels</td>\n",
       "      <td>0.78</td>\n",
       "      <td>3.0</td>\n",
       "      <td>2014-04-08T16:21:30Z</td>\n",
       "      <td>Web Development</td>\n",
       "      <td>4/8/2014</td>\n",
       "      <td>Free</td>\n",
       "      <td>54</td>\n",
       "      <td>0</td>\n",
       "      <td>3</td>\n",
       "      <td>3</td>\n",
       "      <td>3</td>\n",
       "      <td>3</td>\n",
       "    </tr>\n",
       "    <tr>\n",
       "      <th>4</th>\n",
       "      <td>764164</td>\n",
       "      <td>The Complete Web Developer Course 2.0</td>\n",
       "      <td>https://www.udemy.com/the-complete-web-develop...</td>\n",
       "      <td>200</td>\n",
       "      <td>114512</td>\n",
       "      <td>22412</td>\n",
       "      <td>304</td>\n",
       "      <td>Beginner Level</td>\n",
       "      <td>0.55</td>\n",
       "      <td>30.5</td>\n",
       "      <td>2016-03-08T22:28:36Z</td>\n",
       "      <td>Web Development</td>\n",
       "      <td>3/8/2016</td>\n",
       "      <td>Paid</td>\n",
       "      <td>37</td>\n",
       "      <td>3</td>\n",
       "      <td>3</td>\n",
       "      <td>3</td>\n",
       "      <td>3</td>\n",
       "      <td>2</td>\n",
       "    </tr>\n",
       "  </tbody>\n",
       "</table>\n",
       "</div>"
      ],
      "text/plain": [
       "   course_id                                       course_title  \\\n",
       "0      41295               Learn HTML5 Programming From Scratch   \n",
       "1      59014                     Coding for Entrepreneurs Basic   \n",
       "2     625204                         The Web Developer Bootcamp   \n",
       "3     173548  Build Your First Website in 1 Week with HTML5 ...   \n",
       "4     764164              The Complete Web Developer Course 2.0   \n",
       "\n",
       "                                                 url  price  num_subscribers  \\\n",
       "0  https://www.udemy.com/learn-html5-programming-...      0           268923   \n",
       "1  https://www.udemy.com/coding-for-entrepreneurs...      0           161029   \n",
       "2  https://www.udemy.com/the-web-developer-bootcamp/    200           121584   \n",
       "3  https://www.udemy.com/build-your-first-website...      0           120291   \n",
       "4  https://www.udemy.com/the-complete-web-develop...    200           114512   \n",
       "\n",
       "   num_reviews  num_lectures           level  rating  content_duration  \\\n",
       "0         8629            45  Beginner Level    0.82              10.5   \n",
       "1          279            27    Expert Level    0.69               3.5   \n",
       "2        27445           342  Beginner Level    0.89              43.0   \n",
       "3         5924            30      All Levels    0.78               3.0   \n",
       "4        22412           304  Beginner Level    0.55              30.5   \n",
       "\n",
       "    published_timestamp          subject       Date Free/Paid  \\\n",
       "0  2013-02-14T07:03:41Z  Web Development  2/14/2013      Free   \n",
       "1  2013-06-09T15:51:55Z  Web Development   6/9/2013      Free   \n",
       "2  2015-11-02T21:13:27Z  Web Development  11/2/2015      Paid   \n",
       "3  2014-04-08T16:21:30Z  Web Development   4/8/2014      Free   \n",
       "4  2016-03-08T22:28:36Z  Web Development   3/8/2016      Paid   \n",
       "\n",
       "   course_title_len  price_disc  num_subscribers_disc  num_reviews_disc  \\\n",
       "0                36           0                     3                 3   \n",
       "1                30           0                     3                 3   \n",
       "2                26           3                     3                 3   \n",
       "3                54           0                     3                 3   \n",
       "4                37           3                     3                 3   \n",
       "\n",
       "   num_lectures_disc  rating_disc  \n",
       "0                  2            3  \n",
       "1                  3            2  \n",
       "2                  2            3  \n",
       "3                  3            3  \n",
       "4                  3            2  "
      ]
     },
     "execution_count": 144,
     "metadata": {},
     "output_type": "execute_result"
    }
   ],
   "source": [
    "data_dir = r'C:\\Users\\user\\OneDrive\\Documents\\2022_autumn_Data_mining\\Final project'\n",
    "train_data = os.path.join(data_dir , 'all_feature_extended.csv')\n",
    "train_data_raw = pd.read_csv('all_feature_extended_test.csv', encoding='unicode_escape')\n",
    "training_data = pd.read_csv('all_feature_extended.csv', encoding='unicode_escape')\n",
    "#training_data_log = pd.read_csv('all_feature_extended_log.csv', encoding='unicode_escape')\n",
    "train_data_raw.head()"
   ]
  },
  {
   "cell_type": "code",
   "execution_count": 6,
   "id": "12c551a3",
   "metadata": {},
   "outputs": [],
   "source": [
    "# for tag in training_data.columns[-5:]:\n",
    "#     print(training_data[tag].value_counts())\n",
    "# print(training_data['num_reviews'].quantile([0.25,0.5,0.75]))\n",
    "# x = list(range(training_data.shape[0]))\n",
    "# y = list(training_data['num_reviews'])\n",
    "# plt.scatter(x,y)\n",
    "# plt.show()"
   ]
  },
  {
   "cell_type": "markdown",
   "id": "ef78a8a4",
   "metadata": {},
   "source": [
    "1. Rating value\n",
    "2. Categorize rating range\n",
    "3. Popularity (number of subscribers)\n",
    "4. Practicality (number of reviewers)"
   ]
  },
  {
   "cell_type": "code",
   "execution_count": 109,
   "id": "d86b0080",
   "metadata": {},
   "outputs": [
    {
     "name": "stdout",
     "output_type": "stream",
     "text": [
      "(3462, 12)\n"
     ]
    },
    {
     "data": {
      "text/html": [
       "<div>\n",
       "<style scoped>\n",
       "    .dataframe tbody tr th:only-of-type {\n",
       "        vertical-align: middle;\n",
       "    }\n",
       "\n",
       "    .dataframe tbody tr th {\n",
       "        vertical-align: top;\n",
       "    }\n",
       "\n",
       "    .dataframe thead th {\n",
       "        text-align: right;\n",
       "    }\n",
       "</style>\n",
       "<table border=\"1\" class=\"dataframe\">\n",
       "  <thead>\n",
       "    <tr style=\"text-align: right;\">\n",
       "      <th></th>\n",
       "      <th>price</th>\n",
       "      <th>content_duration</th>\n",
       "      <th>num_lectures</th>\n",
       "      <th>course_title_len</th>\n",
       "      <th>subject_Business Finance</th>\n",
       "      <th>subject_Graphic Design</th>\n",
       "      <th>subject_Musical Instruments</th>\n",
       "      <th>subject_Web Development</th>\n",
       "      <th>level_All Levels</th>\n",
       "      <th>level_Beginner Level</th>\n",
       "      <th>level_Expert Level</th>\n",
       "      <th>level_Intermediate Level</th>\n",
       "    </tr>\n",
       "  </thead>\n",
       "  <tbody>\n",
       "    <tr>\n",
       "      <th>0</th>\n",
       "      <td>0</td>\n",
       "      <td>10.5</td>\n",
       "      <td>45</td>\n",
       "      <td>36</td>\n",
       "      <td>0</td>\n",
       "      <td>0</td>\n",
       "      <td>0</td>\n",
       "      <td>1</td>\n",
       "      <td>0</td>\n",
       "      <td>1</td>\n",
       "      <td>0</td>\n",
       "      <td>0</td>\n",
       "    </tr>\n",
       "    <tr>\n",
       "      <th>1</th>\n",
       "      <td>0</td>\n",
       "      <td>3.5</td>\n",
       "      <td>27</td>\n",
       "      <td>30</td>\n",
       "      <td>0</td>\n",
       "      <td>0</td>\n",
       "      <td>0</td>\n",
       "      <td>1</td>\n",
       "      <td>0</td>\n",
       "      <td>0</td>\n",
       "      <td>1</td>\n",
       "      <td>0</td>\n",
       "    </tr>\n",
       "    <tr>\n",
       "      <th>2</th>\n",
       "      <td>200</td>\n",
       "      <td>43.0</td>\n",
       "      <td>342</td>\n",
       "      <td>26</td>\n",
       "      <td>0</td>\n",
       "      <td>0</td>\n",
       "      <td>0</td>\n",
       "      <td>1</td>\n",
       "      <td>0</td>\n",
       "      <td>1</td>\n",
       "      <td>0</td>\n",
       "      <td>0</td>\n",
       "    </tr>\n",
       "    <tr>\n",
       "      <th>3</th>\n",
       "      <td>0</td>\n",
       "      <td>3.0</td>\n",
       "      <td>30</td>\n",
       "      <td>54</td>\n",
       "      <td>0</td>\n",
       "      <td>0</td>\n",
       "      <td>0</td>\n",
       "      <td>1</td>\n",
       "      <td>1</td>\n",
       "      <td>0</td>\n",
       "      <td>0</td>\n",
       "      <td>0</td>\n",
       "    </tr>\n",
       "    <tr>\n",
       "      <th>4</th>\n",
       "      <td>200</td>\n",
       "      <td>30.5</td>\n",
       "      <td>304</td>\n",
       "      <td>37</td>\n",
       "      <td>0</td>\n",
       "      <td>0</td>\n",
       "      <td>0</td>\n",
       "      <td>1</td>\n",
       "      <td>0</td>\n",
       "      <td>1</td>\n",
       "      <td>0</td>\n",
       "      <td>0</td>\n",
       "    </tr>\n",
       "  </tbody>\n",
       "</table>\n",
       "</div>"
      ],
      "text/plain": [
       "   price  content_duration  num_lectures  course_title_len  \\\n",
       "0      0              10.5            45                36   \n",
       "1      0               3.5            27                30   \n",
       "2    200              43.0           342                26   \n",
       "3      0               3.0            30                54   \n",
       "4    200              30.5           304                37   \n",
       "\n",
       "   subject_Business Finance  subject_Graphic Design  \\\n",
       "0                         0                       0   \n",
       "1                         0                       0   \n",
       "2                         0                       0   \n",
       "3                         0                       0   \n",
       "4                         0                       0   \n",
       "\n",
       "   subject_Musical Instruments  subject_Web Development  level_All Levels  \\\n",
       "0                            0                        1                 0   \n",
       "1                            0                        1                 0   \n",
       "2                            0                        1                 0   \n",
       "3                            0                        1                 1   \n",
       "4                            0                        1                 0   \n",
       "\n",
       "   level_Beginner Level  level_Expert Level  level_Intermediate Level  \n",
       "0                     1                   0                         0  \n",
       "1                     0                   1                         0  \n",
       "2                     1                   0                         0  \n",
       "3                     0                   0                         0  \n",
       "4                     1                   0                         0  "
      ]
     },
     "execution_count": 109,
     "metadata": {},
     "output_type": "execute_result"
    }
   ],
   "source": [
    "train_data1 = pd.concat([training_data['price'], training_data['subject'], training_data['level'], training_data['content_duration']\n",
    "                        , training_data['num_lectures'], training_data['course_title_len']\n",
    "                         ], axis = 1)\n",
    "train_data_dum = pd.get_dummies(train_data1) \n",
    "print(train_data_dum.shape)\n",
    "train_data_dum.head()"
   ]
  },
  {
   "cell_type": "markdown",
   "id": "4981eabb",
   "metadata": {},
   "source": [
    "### traing data"
   ]
  },
  {
   "cell_type": "code",
   "execution_count": 110,
   "id": "4a9dac7d",
   "metadata": {},
   "outputs": [],
   "source": [
    "x_train, x_vali, y_train, y_vali =train_test_split(train_data_dum, training_data['rating_disc'], \n",
    "                                                   test_size=0.3, random_state=42)"
   ]
  },
  {
   "cell_type": "markdown",
   "id": "c8be974e",
   "metadata": {},
   "source": [
    "### SVM"
   ]
  },
  {
   "cell_type": "code",
   "execution_count": 139,
   "id": "b9b71a82",
   "metadata": {},
   "outputs": [
    {
     "name": "stdout",
     "output_type": "stream",
     "text": [
      "f1 score: 0.309\n",
      "accuracy: 0.5005\n",
      "confusion_matrix:\n"
     ]
    },
    {
     "data": {
      "image/png": "[encoded data removed]",
      "text/plain": [
       "<Figure size 432x288 with 2 Axes>"
      ]
     },
     "metadata": {
      "needs_background": "light"
     },
     "output_type": "display_data"
    }
   ],
   "source": [
    "import numpy as np\n",
    "from sklearn.pipeline import make_pipeline\n",
    "from sklearn.preprocessing import StandardScaler\n",
    "from sklearn.svm import SVC\n",
    "svm = make_pipeline(StandardScaler(), SVC(gamma='auto'))\n",
    "svm.fit(x_train, y_train)\n",
    "\n",
    "y_predict_svm = svm.predict(x_vali)\n",
    "\n",
    "f1_result_svm = f1_score(y_vali, y_predict_svm, average='macro')\n",
    "print('f1 score: ', end = '')\n",
    "print(format(f1_result_svm,  '.3f'))\n",
    "\n",
    "accu_svm = accuracy(y_vali, y_predict)\n",
    "print('accuracy: ', end = '')\n",
    "print(format(accu_svm,  '.4f'))\n",
    "\n",
    "print('confusion_matrix:')\n",
    "confusion_matrix_svm = confusion_matrix(y_vali, y_predict_svm)\n",
    "\n",
    "cm_display = ConfusionMatrixDisplay(confusion_matrix = confusion_matrix_svm)\n",
    "cm_display.plot()\n",
    "plt.title('SVM')\n",
    "plt.show()"
   ]
  },
  {
   "cell_type": "markdown",
   "id": "cd186a02",
   "metadata": {},
   "source": [
    "### Random forest test"
   ]
  },
  {
   "cell_type": "code",
   "execution_count": 140,
   "id": "7ece8d43",
   "metadata": {},
   "outputs": [
    {
     "name": "stdout",
     "output_type": "stream",
     "text": [
      "f1 score: 0.310\n",
      "accuracy: 0.5910\n",
      "confusion_matrix:\n"
     ]
    },
    {
     "data": {
      "image/png": "[encoded data removed]",
      "text/plain": [
       "<Figure size 432x288 with 2 Axes>"
      ]
     },
     "metadata": {
      "needs_background": "light"
     },
     "output_type": "display_data"
    }
   ],
   "source": [
    "testForestModel = RandomForestClassifier(bootstrap = True, \n",
    "                                 max_depth=10, \n",
    "                                 max_features='sqrt', \n",
    "                                 min_samples_leaf=2, \n",
    "                                 min_samples_split=5,\n",
    "                                 n_estimators=200)\n",
    "testForestModel.fit(x_train, y_train)\n",
    "\n",
    "y_predict_ran = testForestModel.predict(x_vali)\n",
    "\n",
    "f1_result_ran = f1_score(y_vali, y_predict_ran, average='macro')\n",
    "print('f1 score: ', end = '')\n",
    "print(format(f1_result_ran,  '.3f'))\n",
    "\n",
    "accu_ran = accuracy(y_vali, y_predict_ran)\n",
    "print('accuracy: ', end = '')\n",
    "print(format(accu_ran,  '.4f'))\n",
    "\n",
    "print('confusion_matrix:')\n",
    "confusion_matrix_ran = confusion_matrix(y_vali, y_predict_ran)\n",
    "\n",
    "cm_display = ConfusionMatrixDisplay(confusion_matrix = confusion_matrix_ran)\n",
    "cm_display.plot()\n",
    "plt.title('RandomForest')\n",
    "plt.show()"
   ]
  },
  {
   "cell_type": "markdown",
   "id": "f9a9e07c",
   "metadata": {},
   "source": [
    "### XGboost"
   ]
  },
  {
   "cell_type": "code",
   "execution_count": 141,
   "id": "c86bf93e",
   "metadata": {},
   "outputs": [
    {
     "name": "stdout",
     "output_type": "stream",
     "text": [
      "f1 score: 0.311\n",
      "accuracy: 0.5717\n",
      "confusion_matrix:\n"
     ]
    },
    {
     "data": {
      "image/png": "[encoded data removed]",
      "text/plain": [
       "<Figure size 432x288 with 2 Axes>"
      ]
     },
     "metadata": {
      "needs_background": "light"
     },
     "output_type": "display_data"
    }
   ],
   "source": [
    "xg5 = XGBClassifier(colsample_bytree= 0.3, learning_rate=0.01, max_depth= 40, n_estimators=800)\n",
    "xg5=xg5.fit(x_train, y_train)\n",
    "y_predict_xg = xg5.predict(x_vali)\n",
    "\n",
    "f1_result_xg = f1_score(y_vali, y_predict_xg, average='macro')\n",
    "print('f1 score: ', end = '')\n",
    "print(format(f1_result_xg,  '.3f'))\n",
    "\n",
    "accu_xg = accuracy(y_vali, y_predict_xg)\n",
    "print('accuracy: ', end = '')\n",
    "print(format(accu_xg,  '.4f'))\n",
    "\n",
    "print('confusion_matrix:')\n",
    "confusion_matrix_xg = confusion_matrix(y_vali, y_predict_xg)\n",
    "\n",
    "cm_display = ConfusionMatrixDisplay(confusion_matrix = confusion_matrix_xg)\n",
    "cm_display.plot()\n",
    "plt.title('XGboost')\n",
    "plt.show()"
   ]
  },
  {
   "cell_type": "code",
   "execution_count": 123,
   "id": "be1a640f",
   "metadata": {},
   "outputs": [
    {
     "name": "stdout",
     "output_type": "stream",
     "text": [
      "roc_auc_score in XGboost: {0: 0.664, 1: 0.5, 2: 0.501, 3: 0.618}\n",
      "roc_auc_score in SVM: {0: 0.678, 1: 0.5, 2: 0.499, 3: 0.621}\n",
      "roc_auc_score in RandomForest: {0: 0.683, 1: 0.5, 2: 0.504, 3: 0.625}\n"
     ]
    }
   ],
   "source": [
    "print(\"roc_auc_score in XGboost: \", end = '')\n",
    "print(roc_auc_score_multiclass(y_vali, y_predict_xg))\n",
    "print(\"roc_auc_score in SVM: \", end = '')\n",
    "print(roc_auc_score_multiclass(y_vali, y_predict_svm))\n",
    "print(\"roc_auc_score in RandomForest: \", end = '')\n",
    "print(roc_auc_score_multiclass(y_vali, y_predict_ran))"
   ]
  }
 ],
 "metadata": {
  "kernelspec": {
   "display_name": "Python 3 (ipykernel)",
   "language": "python",
   "name": "python3"
  },
  "language_info": {
   "codemirror_mode": {
    "name": "ipython",
    "version": 3
   },
   "file_extension": ".py",
   "mimetype": "text/x-python",
   "name": "python",
   "nbconvert_exporter": "python",
   "pygments_lexer": "ipython3",
   "version": "3.9.7"
  }
 },
 "nbformat": 4,
 "nbformat_minor": 5
}
